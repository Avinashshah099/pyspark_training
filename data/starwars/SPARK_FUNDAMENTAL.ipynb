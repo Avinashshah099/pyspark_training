{
  "nbformat": 4,
  "nbformat_minor": 0,
  "metadata": {
    "colab": {
      "name": "SPARK FUNDAMENTAL",
      "provenance": [],
      "collapsed_sections": [],
      "toc_visible": true
    },
    "kernelspec": {
      "name": "python3",
      "display_name": "Python 3"
    }
  },
  "cells": [
    {
      "cell_type": "markdown",
      "metadata": {
        "id": "sq8U3BtmhtRx",
        "colab_type": "text"
      },
      "source": [
        "\n",
        "# **Running Pyspark in Colab**\n",
        "\n",
        "To run spark in Colab, we need to first install all the dependencies in Colab environment i.e. Apache Spark 2.4.5 with hadoop 2.7, Java 8 and Findspark to locate the spark in the system. The tools installation can be carried out inside the Jupyter Notebook of the Colab. One important note is that if you are new in Spark, it is better to avoid Spark 2.4.0 version since some people have already complained about its compatibility issue with python. \n",
        "Follow the steps to install the dependencies:"
      ]
    },
    {
      "cell_type": "code",
      "metadata": {
        "id": "lh5NCoc8fsSO",
        "colab_type": "code",
        "colab": {}
      },
      "source": [
        "!apt-get install openjdk-8-jdk-headless -qq > /dev/null\n",
        "!wget -q https://downloads.apache.org/spark/spark-2.4.5/spark-2.4.5-bin-hadoop2.7.tgz\n",
        "!tar xf spark-2.4.5-bin-hadoop2.7.tgz\n",
        "!pip install -q findspark"
      ],
      "execution_count": 0,
      "outputs": []
    },
    {
      "cell_type": "markdown",
      "metadata": {
        "id": "ILheUROOhprv",
        "colab_type": "text"
      },
      "source": [
        "Now that you installed Spark and Java in Colab, it is time to set the environment path which enables you to run Pyspark in your Colab environment. Set the location of Java and Spark by running the following code:"
      ]
    },
    {
      "cell_type": "code",
      "metadata": {
        "id": "v1b8k_OVf2QF",
        "colab_type": "code",
        "colab": {}
      },
      "source": [
        "import os\n",
        "os.environ[\"JAVA_HOME\"] = \"/usr/lib/jvm/java-8-openjdk-amd64\"\n",
        "os.environ[\"SPARK_HOME\"] = \"/content/spark-2.4.5-bin-hadoop2.7\""
      ],
      "execution_count": 0,
      "outputs": []
    },
    {
      "cell_type": "markdown",
      "metadata": {
        "id": "KwrqMk3HiMiE",
        "colab_type": "text"
      },
      "source": [
        "Run a local spark session to test your installation\n",
        "At the first line, [*] means for all, as many threads as there are in your machine. Local keyword is used to run spark locally. There are different parameters that can be used with it . More info in https://stackoverflow.com/questions/32356143/what-does-setmaster-local-mean-in-spark\n",
        "\n"
      ]
    },
    {
      "cell_type": "code",
      "metadata": {
        "id": "9_Uz1NL4gHFx",
        "colab_type": "code",
        "colab": {}
      },
      "source": [
        "import findspark\n",
        "findspark.init()\n",
        "from pyspark.sql import SparkSession\n",
        "spark = SparkSession.builder.master(\"local[*]\").getOrCreate()"
      ],
      "execution_count": 0,
      "outputs": []
    },
    {
      "cell_type": "code",
      "metadata": {
        "id": "HOAOpPjvUXsx",
        "colab_type": "code",
        "colab": {
          "base_uri": "https://localhost:8080/",
          "height": 51
        },
        "outputId": "725afa66-c60f-47b2-f882-e46cbdc08862"
      },
      "source": [
        "!ls"
      ],
      "execution_count": 44,
      "outputs": [
        {
          "output_type": "stream",
          "text": [
            "characters.csv\tspark-2.4.5-bin-hadoop2.7      spark-warehouse\n",
            "sample_data\tspark-2.4.5-bin-hadoop2.7.tgz\n"
          ],
          "name": "stdout"
        }
      ]
    },
    {
      "cell_type": "markdown",
      "metadata": {
        "id": "8MsCCbaRyxF-",
        "colab_type": "text"
      },
      "source": [
        "the code below is the old way of creating SparkSession. Both ways are still valid\n",
        "\n",
        "If you don't run PySpark through the interactive shell but rather as a Python script. You will need some additional code at the top of your script.\n",
        "\n",
        "The first thing you must do is create a SparkContext() object. This tells Spark how to access a cluster. SparkConf() is where you can set the configuration for your Spark application.\n",
        "\n",
        "Note: You can only have **ONE** SparkContext running at once."
      ]
    },
    {
      "cell_type": "code",
      "metadata": {
        "id": "Gw-WpJC7x3T4",
        "colab_type": "code",
        "colab": {}
      },
      "source": [
        "#from pyspark import SparkContext, SparkConf\n",
        "#from pyspark.sql import SQLContext\n",
        "#conf = SparkConf().setAppName('Spark DL Tabular Pipeline').setMaster('local[*]')\n",
        "#sc = SparkContext(conf=conf)\n",
        "#sql_context = SQLContext(sc)"
      ],
      "execution_count": 0,
      "outputs": []
    },
    {
      "cell_type": "markdown",
      "metadata": {
        "id": "h3Kp55TdYFZs",
        "colab_type": "text"
      },
      "source": [
        "Upload a sample dataset. We will use a small dataset in the below link\n"
      ]
    },
    {
      "cell_type": "code",
      "metadata": {
        "id": "o_0LiqYpXJ7r",
        "colab_type": "code",
        "outputId": "1440860a-3d38-410c-c1c2-49c02053e1b0",
        "colab": {
          "resources": {
            "http://localhost:8080/nbextensions/google.colab/files.js": {
              "data": "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",
              "ok": true,
              "headers": [
                [
                  "content-type",
                  "application/javascript"
                ]
              ],
              "status": 200,
              "status_text": ""
            }
          },
          "base_uri": "https://localhost:8080/",
          "height": 111
        }
      },
      "source": [
        "from google.colab import files\n",
        "files.upload()"
      ],
      "execution_count": 6,
      "outputs": [
        {
          "output_type": "display_data",
          "data": {
            "text/html": [
              "\n",
              "     <input type=\"file\" id=\"files-03d2fcd2-a50b-4085-9f4f-c9c1446aaebb\" name=\"files[]\" multiple disabled />\n",
              "     <output id=\"result-03d2fcd2-a50b-4085-9f4f-c9c1446aaebb\">\n",
              "      Upload widget is only available when the cell has been executed in the\n",
              "      current browser session. Please rerun this cell to enable.\n",
              "      </output>\n",
              "      <script src=\"/nbextensions/google.colab/files.js\"></script> "
            ],
            "text/plain": [
              "<IPython.core.display.HTML object>"
            ]
          },
          "metadata": {
            "tags": []
          }
        },
        {
          "output_type": "stream",
          "text": [
            "Saving characters.csv to characters.csv\n"
          ],
          "name": "stdout"
        },
        {
          "output_type": "execute_result",
          "data": {
            "text/plain": [
              "{'characters.csv': b'name,height,mass,hair_color,skin_color,eye_color,birth_year,gender,homeworld,species\\nLuke Skywalker,172,77,blond,fair,blue,19BBY,male,Tatooine,Human\\nC-3PO,167,75,NA,gold,yellow,112BBY,NA,Tatooine,Droid\\nR2-D2,96,32,NA,\"white, blue\",red,33BBY,NA,Naboo,Droid\\nDarth Vader,202,136,none,white,yellow,41.9BBY,male,Tatooine,Human\\nLeia Organa,150,49,brown,light,brown,19BBY,female,Alderaan,Human\\nOwen Lars,178,120,\"brown, grey\",light,blue,52BBY,male,Tatooine,Human\\nBeru Whitesun lars,165,75,brown,light,blue,47BBY,female,Tatooine,Human\\nR5-D4,97,32,NA,\"white, red\",red,NA,NA,Tatooine,Droid\\nBiggs Darklighter,183,84,black,light,brown,24BBY,male,Tatooine,Human\\nObi-Wan Kenobi,182,77,\"auburn, white\",fair,blue-gray,57BBY,male,Stewjon,Human\\nAnakin Skywalker,188,84,blond,fair,blue,41.9BBY,male,Tatooine,Human\\nWilhuff Tarkin,180,NA,\"auburn, grey\",fair,blue,64BBY,male,Eriadu,Human\\nChewbacca,228,112,brown,NA,blue,200BBY,male,Kashyyyk,Wookiee\\nHan Solo,180,80,brown,fair,brown,29BBY,male,Corellia,Human\\nGreedo,173,74,NA,green,black,44BBY,male,Rodia,Rodian\\nJabba Desilijic Tiure,175,\"1,358\",NA,\"green-tan, brown\",orange,600BBY,hermaphrodite,Nal Hutta,Hutt\\nWedge Antilles,170,77,brown,fair,hazel,21BBY,male,Corellia,Human\\nJek Tono Porkins,180,110,brown,fair,blue,NA,male,Bestine IV,Human\\nYoda,66,17,white,green,brown,896BBY,male,NA,Yoda\\'s species\\nPalpatine,170,75,grey,pale,yellow,82BBY,male,Naboo,Human\\nBoba Fett,183,78.2,black,fair,brown,31.5BBY,male,Kamino,Human\\nIG-88,200,140,none,metal,red,15BBY,none,NA,Droid\\nBossk,190,113,none,green,red,53BBY,male,Trandosha,Trandoshan\\nLando Calrissian,177,79,black,dark,brown,31BBY,male,Socorro,Human\\nLobot,175,79,none,light,blue,37BBY,male,Bespin,Human\\nAckbar,180,83,none,brown mottle,orange,41BBY,male,Mon Cala,Mon Calamari\\nMon Mothma,150,NA,auburn,fair,blue,48BBY,female,Chandrila,Human\\nArvel Crynyd,NA,NA,brown,fair,brown,NA,male,NA,Human\\nWicket Systri Warrick,88,20,brown,brown,brown,8BBY,male,Endor,Ewok\\nNien Nunb,160,68,none,grey,black,NA,male,Sullust,Sullustan\\nQui-Gon Jinn,193,89,brown,fair,blue,92BBY,male,NA,Human\\nNute Gunray,191,90,none,mottled green,red,NA,male,Cato Neimoidia,Neimodian\\nFinis Valorum,170,NA,blond,fair,blue,91BBY,male,Coruscant,Human\\nJar Jar Binks,196,66,none,orange,orange,52BBY,male,Naboo,Gungan\\nRoos Tarpals,224,82,none,grey,orange,NA,male,Naboo,Gungan\\nRugor Nass,206,NA,none,green,orange,NA,male,Naboo,Gungan\\nRic Oli\\xc3\\xa9,183,NA,brown,fair,blue,NA,male,Naboo,NA\\nWatto,137,NA,black,\"blue, grey\",yellow,NA,male,Toydaria,Toydarian\\nSebulba,112,40,none,\"grey, red\",orange,NA,male,Malastare,Dug\\nQuarsh Panaka,183,NA,black,dark,brown,62BBY,male,Naboo,NA\\nShmi Skywalker,163,NA,black,fair,brown,72BBY,female,Tatooine,Human\\nDarth Maul,175,80,none,red,yellow,54BBY,male,Dathomir,Zabrak\\nBib Fortuna,180,NA,none,pale,pink,NA,male,Ryloth,Twi\\'lek\\nAyla Secura,178,55,none,blue,hazel,48BBY,female,Ryloth,Twi\\'lek\\nDud Bolt,94,45,none,\"blue, grey\",yellow,NA,male,Vulpter,Vulptereen\\nGasgano,122,NA,none,\"white, blue\",black,NA,male,Troiken,Xexto\\nBen Quadinaros,163,65,none,\"grey, green, yellow\",orange,NA,male,Tund,Toong\\nMace Windu,188,84,none,dark,brown,72BBY,male,Haruun Kal,Human\\nKi-Adi-Mundi,198,82,white,pale,yellow,92BBY,male,Cerea,Cerean\\nKit Fisto,196,87,none,green,black,NA,male,Glee Anselm,Nautolan\\nEeth Koth,171,NA,black,brown,brown,NA,male,Iridonia,Zabrak\\nAdi Gallia,184,50,none,dark,blue,NA,female,Coruscant,Tholothian\\nSaesee Tiin,188,NA,none,pale,orange,NA,male,Iktotch,Iktotchi\\nYarael Poof,264,NA,none,white,yellow,NA,male,Quermia,Quermian\\nPlo Koon,188,80,none,orange,black,22BBY,male,Dorin,Kel Dor\\nMas Amedda,196,NA,none,blue,blue,NA,male,Champala,Chagrian\\nGregar Typho,185,85,black,dark,brown,NA,male,Naboo,Human\\nCord\\xc3\\xa9,157,NA,brown,light,brown,NA,female,Naboo,Human\\nCliegg Lars,183,NA,brown,fair,blue,82BBY,male,Tatooine,Human\\nPoggle the Lesser,183,80,none,green,yellow,NA,male,Geonosis,Geonosian\\nLuminara Unduli,170,56.2,black,yellow,blue,58BBY,female,Mirial,Mirialan\\nBarriss Offee,166,50,black,yellow,blue,40BBY,female,Mirial,Mirialan\\nDorm\\xc3\\xa9,165,NA,brown,light,brown,NA,female,Naboo,Human\\nDooku,193,80,white,fair,brown,102BBY,male,Serenno,Human\\nBail Prestor Organa,191,NA,black,tan,brown,67BBY,male,Alderaan,Human\\nJango Fett,183,79,black,tan,brown,66BBY,male,Concord Dawn,Human\\nZam Wesell,168,55,blonde,\"fair, green, yellow\",yellow,NA,female,Zolan,Clawdite\\nDexter Jettster,198,102,none,brown,yellow,NA,male,Ojom,Besalisk\\nLama Su,229,88,none,grey,black,NA,male,Kamino,Kaminoan\\nTaun We,213,NA,none,grey,black,NA,female,Kamino,Kaminoan\\nJocasta Nu,167,NA,white,fair,blue,NA,female,Coruscant,Human\\nRatts Tyerell,79,15,none,\"grey, blue\",NA,NA,male,Aleen Minor,Aleena\\nR4-P17,96,NA,none,\"silver, red\",\"red, blue\",NA,female,NA,NA\\nWat Tambor,193,48,none,\"green, grey\",NA,NA,male,Skako,Skakoan\\nSan Hill,191,NA,none,grey,gold,NA,male,Muunilinst,Muun\\nShaak Ti,178,57,none,\"red, blue, white\",black,NA,female,Shili,Togruta\\nGrievous,216,159,none,\"brown, white\",\"green, yellow\",NA,male,Kalee,Kaleesh\\nTarfful,234,136,brown,brown,blue,NA,male,Kashyyyk,Wookiee\\nRaymus Antilles,188,79,brown,light,brown,NA,male,Alderaan,Human\\nSly Moore,178,48,none,pale,white,NA,female,Umbara,NA\\nTion Medon,206,80,none,grey,black,NA,male,Utapau,Pau\\'an\\nFinn,NA,NA,black,dark,dark,NA,male,NA,Human\\nRey,NA,NA,brown,light,hazel,NA,female,NA,Human\\nPoe Dameron,NA,NA,brown,light,brown,NA,male,NA,Human\\nBB8,NA,NA,none,none,black,NA,none,NA,Droid\\nCaptain Phasma,NA,NA,NA,NA,NA,NA,female,NA,NA\\nPadm\\xc3\\xa9 Amidala,165,45,brown,light,brown,46BBY,female,Naboo,Human\\n'}"
            ]
          },
          "metadata": {
            "tags": []
          },
          "execution_count": 6
        }
      ]
    },
    {
      "cell_type": "markdown",
      "metadata": {
        "id": "EcXGxIUNYa_r",
        "colab_type": "text"
      },
      "source": [
        "check on the file "
      ]
    },
    {
      "cell_type": "code",
      "metadata": {
        "id": "yVr_-47dYdJc",
        "colab_type": "code",
        "outputId": "b5bd1a70-fe9e-4df5-f65d-2659926cff59",
        "colab": {
          "base_uri": "https://localhost:8080/",
          "height": 68
        }
      },
      "source": [
        "!ls\n",
        "!pwd"
      ],
      "execution_count": 7,
      "outputs": [
        {
          "output_type": "stream",
          "text": [
            "characters.csv\tspark-2.4.5-bin-hadoop2.7\n",
            "sample_data\tspark-2.4.5-bin-hadoop2.7.tgz\n",
            "/content\n"
          ],
          "name": "stdout"
        }
      ]
    },
    {
      "cell_type": "markdown",
      "metadata": {
        "id": "JEb4HTRwiaJx",
        "colab_type": "text"
      },
      "source": [
        "Congrats! Your Colab is ready to run Pyspark."
      ]
    },
    {
      "cell_type": "markdown",
      "metadata": {
        "id": "53IklhvNXGTF",
        "colab_type": "text"
      },
      "source": [
        "# Introduction to pyspark"
      ]
    },
    {
      "cell_type": "markdown",
      "metadata": {
        "id": "21D9EANUvnwF",
        "colab_type": "text"
      },
      "source": [
        "Now that we have uploaded the dataset, we can start analyzing. \n"
      ]
    },
    {
      "cell_type": "code",
      "metadata": {
        "id": "0ZeJ7WQCgM8g",
        "colab_type": "code",
        "colab": {}
      },
      "source": [
        "df = spark.read.csv('characters.csv',inferSchema=True, header =True)\n"
      ],
      "execution_count": 0,
      "outputs": []
    },
    {
      "cell_type": "markdown",
      "metadata": {
        "id": "UJLoAfqVv8-E",
        "colab_type": "text"
      },
      "source": [
        "Notice that we used InferSchema inside read.csv mofule. InferSchema enables us to infer automatically different data types for each column.\n",
        "\n",
        "Let us print look into the dataset to see the data types of each column:"
      ]
    },
    {
      "cell_type": "code",
      "metadata": {
        "id": "Gok1FXWugYkE",
        "colab_type": "code",
        "outputId": "6f0864b7-b3ce-4a3c-ccb3-c22122dfc035",
        "colab": {
          "base_uri": "https://localhost:8080/",
          "height": 221
        }
      },
      "source": [
        "df.printSchema()"
      ],
      "execution_count": 9,
      "outputs": [
        {
          "output_type": "stream",
          "text": [
            "root\n",
            " |-- name: string (nullable = true)\n",
            " |-- height: string (nullable = true)\n",
            " |-- mass: string (nullable = true)\n",
            " |-- hair_color: string (nullable = true)\n",
            " |-- skin_color: string (nullable = true)\n",
            " |-- eye_color: string (nullable = true)\n",
            " |-- birth_year: string (nullable = true)\n",
            " |-- gender: string (nullable = true)\n",
            " |-- homeworld: string (nullable = true)\n",
            " |-- species: string (nullable = true)\n",
            "\n"
          ],
          "name": "stdout"
        }
      ]
    },
    {
      "cell_type": "markdown",
      "metadata": {
        "id": "m_H_YrUDbqpS",
        "colab_type": "text"
      },
      "source": [
        "use show() to get a sample of df"
      ]
    },
    {
      "cell_type": "code",
      "metadata": {
        "id": "i-8XK6eDbgeT",
        "colab_type": "code",
        "outputId": "e0d71299-461f-4f93-9f31-42d9dad7430b",
        "colab": {
          "base_uri": "https://localhost:8080/",
          "height": 204
        }
      },
      "source": [
        "df.show(5)"
      ],
      "execution_count": 10,
      "outputs": [
        {
          "output_type": "stream",
          "text": [
            "+--------------+------+----+----------+-----------+---------+----------+------+---------+-------+\n",
            "|          name|height|mass|hair_color| skin_color|eye_color|birth_year|gender|homeworld|species|\n",
            "+--------------+------+----+----------+-----------+---------+----------+------+---------+-------+\n",
            "|Luke Skywalker|   172|  77|     blond|       fair|     blue|     19BBY|  male| Tatooine|  Human|\n",
            "|         C-3PO|   167|  75|        NA|       gold|   yellow|    112BBY|    NA| Tatooine|  Droid|\n",
            "|         R2-D2|    96|  32|        NA|white, blue|      red|     33BBY|    NA|    Naboo|  Droid|\n",
            "|   Darth Vader|   202| 136|      none|      white|   yellow|   41.9BBY|  male| Tatooine|  Human|\n",
            "|   Leia Organa|   150|  49|     brown|      light|    brown|     19BBY|female| Alderaan|  Human|\n",
            "+--------------+------+----+----------+-----------+---------+----------+------+---------+-------+\n",
            "only showing top 5 rows\n",
            "\n"
          ],
          "name": "stdout"
        }
      ]
    },
    {
      "cell_type": "markdown",
      "metadata": {
        "id": "lokDFs3GY0OP",
        "colab_type": "text"
      },
      "source": [
        "# Data Exploration"
      ]
    },
    {
      "cell_type": "markdown",
      "metadata": {
        "id": "26AG9OaPZ_IW",
        "colab_type": "text"
      },
      "source": [
        "find out total of rows"
      ]
    },
    {
      "cell_type": "code",
      "metadata": {
        "id": "mMmGYiPqZvO-",
        "colab_type": "code",
        "outputId": "052b88ad-80f1-494b-be2c-02fb3f6f853b",
        "colab": {
          "base_uri": "https://localhost:8080/",
          "height": 34
        }
      },
      "source": [
        "total_rows = df.count()\n",
        "print(total_rows)\n"
      ],
      "execution_count": 11,
      "outputs": [
        {
          "output_type": "stream",
          "text": [
            "87\n"
          ],
          "name": "stdout"
        }
      ]
    },
    {
      "cell_type": "markdown",
      "metadata": {
        "id": "4E5ewnOKaLSO",
        "colab_type": "text"
      },
      "source": [
        "for larger data we can get a smaller sample so we can iterate faster\n",
        "\n",
        "Here we have an example of lazy evaluation. Lets look at the df1 which takes 20% of the dataframe. It will not be compute until the next code block which is df_sample.show()\n",
        "\n"
      ]
    },
    {
      "cell_type": "code",
      "metadata": {
        "id": "NV6joe6paG90",
        "colab_type": "code",
        "colab": {}
      },
      "source": [
        "df_sample = df.sample(fraction=.1)\n"
      ],
      "execution_count": 0,
      "outputs": []
    },
    {
      "cell_type": "markdown",
      "metadata": {
        "id": "xbne-XYVvOL7",
        "colab_type": "text"
      },
      "source": [
        "here is where the df_sample will be computed"
      ]
    },
    {
      "cell_type": "code",
      "metadata": {
        "id": "dTap9TJuvIKl",
        "colab_type": "code",
        "outputId": "9cea9683-9fc3-4d71-d3f1-aafbd14144e3",
        "colab": {
          "base_uri": "https://localhost:8080/",
          "height": 289
        }
      },
      "source": [
        "df_sample.show()\n"
      ],
      "execution_count": 13,
      "outputs": [
        {
          "output_type": "stream",
          "text": [
            "+---------------+------+----+----------+-------------------+---------+----------+------+------------+----------+\n",
            "|           name|height|mass|hair_color|         skin_color|eye_color|birth_year|gender|   homeworld|   species|\n",
            "+---------------+------+----+----------+-------------------+---------+----------+------+------------+----------+\n",
            "|       Han Solo|   180|  80|     brown|               fair|    brown|     29BBY|  male|    Corellia|     Human|\n",
            "|   Roos Tarpals|   224|  82|      none|               grey|   orange|        NA|  male|       Naboo|    Gungan|\n",
            "|     Rugor Nass|   206|  NA|      none|              green|   orange|        NA|  male|       Naboo|    Gungan|\n",
            "|        Sebulba|   112|  40|      none|          grey, red|   orange|        NA|  male|   Malastare|       Dug|\n",
            "|       Dud Bolt|    94|  45|      none|         blue, grey|   yellow|        NA|  male|     Vulpter|Vulptereen|\n",
            "| Ben Quadinaros|   163|  65|      none|grey, green, yellow|   orange|        NA|  male|        Tund|     Toong|\n",
            "|    Yarael Poof|   264|  NA|      none|              white|   yellow|        NA|  male|     Quermia|  Quermian|\n",
            "|          Dormé|   165|  NA|     brown|              light|    brown|        NA|female|       Naboo|     Human|\n",
            "|     Jango Fett|   183|  79|     black|                tan|    brown|     66BBY|  male|Concord Dawn|     Human|\n",
            "|        Lama Su|   229|  88|      none|               grey|    black|        NA|  male|      Kamino|  Kaminoan|\n",
            "|Raymus Antilles|   188|  79|     brown|              light|    brown|        NA|  male|    Alderaan|     Human|\n",
            "+---------------+------+----+----------+-------------------+---------+----------+------+------------+----------+\n",
            "\n"
          ],
          "name": "stdout"
        }
      ]
    },
    {
      "cell_type": "markdown",
      "metadata": {
        "id": "ZR3NpIV_vWb7",
        "colab_type": "text"
      },
      "source": [
        "Now lets create a tempview and have some fun with it . \n",
        "Note : \n",
        "The lifetime of this temporary table is tied to the SparkSession that was used to create this DataFrame.\n",
        "\n",
        "Throws TempTableAlreadyExistsException, if the view name already exists in the catalog."
      ]
    },
    {
      "cell_type": "code",
      "metadata": {
        "id": "QA4uEXpQvTPP",
        "colab_type": "code",
        "colab": {}
      },
      "source": [
        "df.createOrReplaceTempView(\"df1\")"
      ],
      "execution_count": 0,
      "outputs": []
    },
    {
      "cell_type": "markdown",
      "metadata": {
        "id": "KKUB9Y3B3UdV",
        "colab_type": "text"
      },
      "source": [
        "Describe function \n",
        "\n",
        "- Computes statistics for numeric and string columns.\n",
        "\n",
        "- This include count, mean, stddev, min, and max.\n",
        "\n",
        "- If no columns are given, this function computes statistics for all numerical or string columns.\n",
        "\n",
        "Lets learn about the statistic of the starwar character height"
      ]
    },
    {
      "cell_type": "code",
      "metadata": {
        "id": "yW5H4-xK3Q5J",
        "colab_type": "code",
        "outputId": "049c549a-c1e4-470c-ca0d-fb0b7a173d1a",
        "colab": {
          "base_uri": "https://localhost:8080/",
          "height": 187
        }
      },
      "source": [
        "df.describe(\"height\").show()\n"
      ],
      "execution_count": 15,
      "outputs": [
        {
          "output_type": "stream",
          "text": [
            "+-------+------------------+\n",
            "|summary|            height|\n",
            "+-------+------------------+\n",
            "|  count|                87|\n",
            "|   mean|174.35802469135803|\n",
            "| stddev| 34.77042875849222|\n",
            "|    min|               112|\n",
            "|    max|                NA|\n",
            "+-------+------------------+\n",
            "\n"
          ],
          "name": "stdout"
        }
      ]
    },
    {
      "cell_type": "markdown",
      "metadata": {
        "id": "u5gbbdkF2or7",
        "colab_type": "text"
      },
      "source": [
        "Select characters that have height less than 150"
      ]
    },
    {
      "cell_type": "code",
      "metadata": {
        "id": "86us_Up52Y26",
        "colab_type": "code",
        "outputId": "e1144163-7844-48db-a0a1-96786e174f8d",
        "colab": {
          "base_uri": "https://localhost:8080/",
          "height": 272
        }
      },
      "source": [
        "\n",
        "df_height=spark.sql(\"select * from df1 where height<150\")\n",
        "df_height.show()\n"
      ],
      "execution_count": 21,
      "outputs": [
        {
          "output_type": "stream",
          "text": [
            "+--------------------+------+----+----------+-----------+---------+----------+------+-----------+--------------+\n",
            "|                name|height|mass|hair_color| skin_color|eye_color|birth_year|gender|  homeworld|       species|\n",
            "+--------------------+------+----+----------+-----------+---------+----------+------+-----------+--------------+\n",
            "|               R2-D2|    96|  32|        NA|white, blue|      red|     33BBY|    NA|      Naboo|         Droid|\n",
            "|               R5-D4|    97|  32|        NA| white, red|      red|        NA|    NA|   Tatooine|         Droid|\n",
            "|                Yoda|    66|  17|     white|      green|    brown|    896BBY|  male|         NA|Yoda's species|\n",
            "|Wicket Systri War...|    88|  20|     brown|      brown|    brown|      8BBY|  male|      Endor|          Ewok|\n",
            "|               Watto|   137|  NA|     black| blue, grey|   yellow|        NA|  male|   Toydaria|     Toydarian|\n",
            "|             Sebulba|   112|  40|      none|  grey, red|   orange|        NA|  male|  Malastare|           Dug|\n",
            "|            Dud Bolt|    94|  45|      none| blue, grey|   yellow|        NA|  male|    Vulpter|    Vulptereen|\n",
            "|             Gasgano|   122|  NA|      none|white, blue|    black|        NA|  male|    Troiken|         Xexto|\n",
            "|       Ratts Tyerell|    79|  15|      none| grey, blue|       NA|        NA|  male|Aleen Minor|        Aleena|\n",
            "|              R4-P17|    96|  NA|      none|silver, red|red, blue|        NA|female|         NA|            NA|\n",
            "+--------------------+------+----+----------+-----------+---------+----------+------+-----------+--------------+\n",
            "\n"
          ],
          "name": "stdout"
        }
      ]
    },
    {
      "cell_type": "markdown",
      "metadata": {
        "id": "pPy-sa7ScEAm",
        "colab_type": "text"
      },
      "source": [
        "lets try a group by function to see the relation of species and eye color"
      ]
    },
    {
      "cell_type": "code",
      "metadata": {
        "id": "sKSqdT9QgkfD",
        "colab_type": "code",
        "outputId": "c8aab223-11c5-4016-f5ed-1e128ca102cd",
        "colab": {
          "base_uri": "https://localhost:8080/",
          "height": 459
        }
      },
      "source": [
        "#df_result=spark.sql(\"select * from Character_Table\")\n",
        "df_species_eye_color=spark.sql(\"select species,count(eye_color) as number,eye_color from df1 group by eye_color,species\")\n",
        "df_species_eye_color.show()\n"
      ],
      "execution_count": 22,
      "outputs": [
        {
          "output_type": "stream",
          "text": [
            "+--------------+------+-------------+\n",
            "|       species|number|    eye_color|\n",
            "+--------------+------+-------------+\n",
            "|        Gungan|     3|       orange|\n",
            "|            NA|     1|         blue|\n",
            "|         Human|     2|        hazel|\n",
            "|            NA|     1|        brown|\n",
            "|      Iktotchi|     1|       orange|\n",
            "|     Geonosian|     1|       yellow|\n",
            "|       Twi'lek|     1|        hazel|\n",
            "|      Kaminoan|     2|        black|\n",
            "|        Cerean|     1|       yellow|\n",
            "|       Kaleesh|     1|green, yellow|\n",
            "|      Mirialan|     2|         blue|\n",
            "|         Human|     1|         dark|\n",
            "|      Nautolan|     1|        black|\n",
            "|         Human|    12|         blue|\n",
            "|Yoda's species|     1|        brown|\n",
            "|          Muun|     1|         gold|\n",
            "|        Zabrak|     1|        brown|\n",
            "|          Ewok|     1|        brown|\n",
            "|          Hutt|     1|       orange|\n",
            "|        Zabrak|     1|       yellow|\n",
            "+--------------+------+-------------+\n",
            "only showing top 20 rows\n",
            "\n"
          ],
          "name": "stdout"
        }
      ]
    },
    {
      "cell_type": "markdown",
      "metadata": {
        "id": "QlA4ET7xwi9d",
        "colab_type": "text"
      },
      "source": [
        "Remember I was talking about the RDD persistence concept in Spark Core API ? here I will show you how to make your dataframe persist with cache()\n",
        "\n",
        "Only do this if you plan on reuse the result"
      ]
    },
    {
      "cell_type": "code",
      "metadata": {
        "id": "10AJ2Z5kw2Le",
        "colab_type": "code",
        "outputId": "6927728d-9635-413f-81ee-01b74f817fb3",
        "colab": {
          "base_uri": "https://localhost:8080/",
          "height": 34
        }
      },
      "source": [
        "\n",
        "df_species_eye_color.cache()\n"
      ],
      "execution_count": 23,
      "outputs": [
        {
          "output_type": "execute_result",
          "data": {
            "text/plain": [
              "DataFrame[species: string, number: bigint, eye_color: string]"
            ]
          },
          "metadata": {
            "tags": []
          },
          "execution_count": 23
        }
      ]
    },
    {
      "cell_type": "markdown",
      "metadata": {
        "id": "StZjokkqzn_u",
        "colab_type": "text"
      },
      "source": [
        "distinct function, again without the count() Spark will be lazy and not yet executed"
      ]
    },
    {
      "cell_type": "code",
      "metadata": {
        "id": "AAsb-rVkzVqa",
        "colab_type": "code",
        "colab": {}
      },
      "source": [
        "df_hair_color = df.select('hair_color').distinct()\n"
      ],
      "execution_count": 0,
      "outputs": []
    },
    {
      "cell_type": "markdown",
      "metadata": {
        "id": "uTh-6YjWPNUJ",
        "colab_type": "text"
      },
      "source": [
        "Lets find out how many hair color that we have"
      ]
    },
    {
      "cell_type": "code",
      "metadata": {
        "id": "DxGZGbVRz0cr",
        "colab_type": "code",
        "outputId": "590e4b06-b10b-4bfc-f807-155e25da32ba",
        "colab": {
          "base_uri": "https://localhost:8080/",
          "height": 34
        }
      },
      "source": [
        "df_hair_color.count()\n"
      ],
      "execution_count": 27,
      "outputs": [
        {
          "output_type": "execute_result",
          "data": {
            "text/plain": [
              "12"
            ]
          },
          "metadata": {
            "tags": []
          },
          "execution_count": 27
        }
      ]
    },
    {
      "cell_type": "markdown",
      "metadata": {
        "id": "C4rO1hKR6tXu",
        "colab_type": "text"
      },
      "source": [
        "Alias is used to rename \n",
        "\n",
        "Notice that now df_eye_color is still exist and df_height is not because we saved it to cache"
      ]
    },
    {
      "cell_type": "code",
      "metadata": {
        "id": "SZK4HHNJ58tg",
        "colab_type": "code",
        "colab": {}
      },
      "source": [
        "from pyspark.sql.functions import *\n",
        "df_new1 = df_species_eye_color.alias(\"df_species_eye_color\")\n",
        "\n",
        "#df_new2 =df_height.alias(\"df_height\")\n",
        "\n"
      ],
      "execution_count": 0,
      "outputs": []
    },
    {
      "cell_type": "markdown",
      "metadata": {
        "id": "3qZKJaMQQd-z",
        "colab_type": "text"
      },
      "source": [
        "Let find out the species that have more than 10 count of eye color"
      ]
    },
    {
      "cell_type": "code",
      "metadata": {
        "id": "nLrjmjcp58xD",
        "colab_type": "code",
        "outputId": "af20e2e3-1644-4c21-d573-d55b78a681a9",
        "colab": {
          "base_uri": "https://localhost:8080/",
          "height": 119
        }
      },
      "source": [
        "df_filter = df_new1.filter('number > 12')\n",
        "df_filter.show()"
      ],
      "execution_count": 34,
      "outputs": [
        {
          "output_type": "stream",
          "text": [
            "+-------+------+---------+\n",
            "|species|number|eye_color|\n",
            "+-------+------+---------+\n",
            "|  Human|    17|    brown|\n",
            "+-------+------+---------+\n",
            "\n"
          ],
          "name": "stdout"
        }
      ]
    },
    {
      "cell_type": "markdown",
      "metadata": {
        "id": "SA8Ccp6S8kLX",
        "colab_type": "text"
      },
      "source": [
        "agg\n",
        "Aggregate on the entire DataFrame without groups (shorthand for df.groupBy.agg())\n"
      ]
    },
    {
      "cell_type": "code",
      "metadata": {
        "id": "B8iz9zoo8Xnt",
        "colab_type": "code",
        "outputId": "c86bf528-426c-4f06-d5ec-c81ddcdbb8fa",
        "colab": {
          "base_uri": "https://localhost:8080/",
          "height": 34
        }
      },
      "source": [
        "df_species_eye_color.agg({\"number\": \"max\"}).collect()\n"
      ],
      "execution_count": 38,
      "outputs": [
        {
          "output_type": "execute_result",
          "data": {
            "text/plain": [
              "[Row(max(number)=17)]"
            ]
          },
          "metadata": {
            "tags": []
          },
          "execution_count": 38
        }
      ]
    },
    {
      "cell_type": "code",
      "metadata": {
        "id": "tb-SZ1uY8vnG",
        "colab_type": "code",
        "outputId": "01268bad-d01c-4cf1-840c-615835d5a07d",
        "colab": {
          "base_uri": "https://localhost:8080/",
          "height": 34
        }
      },
      "source": [
        "from pyspark.sql import functions as F\n",
        "df_species_eye_color.agg(F.max(df_species_eye_color.number)).collect()\n"
      ],
      "execution_count": 39,
      "outputs": [
        {
          "output_type": "execute_result",
          "data": {
            "text/plain": [
              "[Row(max(number)=17)]"
            ]
          },
          "metadata": {
            "tags": []
          },
          "execution_count": 39
        }
      ]
    }
  ]
}